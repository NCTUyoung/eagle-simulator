{
 "cells": [
  {
   "cell_type": "code",
   "execution_count": 15,
   "metadata": {},
   "outputs": [],
   "source": [
    "import json \n",
    "import PIL\n",
    "\n",
    "import glob\n",
    "\n",
    "imdir = '../../public/images/'\n",
    "ext = ['png','jpg','gif','jpeg']\n",
    "\n",
    "files = []\n",
    "[files.extend(glob.glob(imdir + '*.'+ e )) for e in ext]\n",
    "files.sort()\n",
    "\n"
   ]
  },
  {
   "cell_type": "code",
   "execution_count": 10,
   "metadata": {},
   "outputs": [
    {
     "data": {
      "text/plain": [
       "['../../public/images\\\\0.jpg',\n",
       " '../../public/images\\\\1.jpg',\n",
       " '../../public/images\\\\10.jpg',\n",
       " '../../public/images\\\\11.jpg',\n",
       " '../../public/images\\\\2.jpg',\n",
       " '../../public/images\\\\3.jpg',\n",
       " '../../public/images\\\\4.jpg',\n",
       " '../../public/images\\\\5.jpg',\n",
       " '../../public/images\\\\6.jpg',\n",
       " '../../public/images\\\\7.jpg',\n",
       " '../../public/images\\\\8.jpg',\n",
       " '../../public/images\\\\9.jpg']"
      ]
     },
     "execution_count": 10,
     "metadata": {},
     "output_type": "execute_result"
    }
   ],
   "source": [
    "files.extend()"
   ]
  },
  {
   "cell_type": "code",
   "execution_count": null,
   "metadata": {},
   "outputs": [],
   "source": []
  }
 ],
 "metadata": {
  "interpreter": {
   "hash": "ad2bdc8ecc057115af97d19610ffacc2b4e99fae6737bb82f5d7fb13d2f2c186"
  },
  "kernelspec": {
   "display_name": "Python 3.9.7 ('base')",
   "language": "python",
   "name": "python3"
  },
  "language_info": {
   "codemirror_mode": {
    "name": "ipython",
    "version": 3
   },
   "file_extension": ".py",
   "mimetype": "text/x-python",
   "name": "python",
   "nbconvert_exporter": "python",
   "pygments_lexer": "ipython3",
   "version": "3.9.7"
  },
  "orig_nbformat": 4
 },
 "nbformat": 4,
 "nbformat_minor": 2
}
